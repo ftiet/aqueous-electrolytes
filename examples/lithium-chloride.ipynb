{
 "cells": [
  {
   "cell_type": "code",
   "execution_count": 1,
   "metadata": {
    "collapsed": false,
    "deletable": true,
    "editable": true,
    "scrolled": false
   },
   "outputs": [
    {
     "name": "stderr",
     "output_type": "stream",
     "text": [
      "//anaconda/lib/python3.5/json/encoder.py:198: DeprecationWarning: Interpreting naive datetime as local 2017-02-28 14:23:29.675419. Please add timezone info to timestamps.\n",
      "  chunks = self.iterencode(o, _one_shot=True)\n"
     ]
    }
   ],
   "source": [
    "import mbuild as mb\n",
    "from foyer import Forcefield\n",
    "import parmed as pmd"
   ]
  },
  {
   "cell_type": "markdown",
   "metadata": {},
   "source": [
    "First, we load in the molecules that we want to add to our system. They are now mbuild compounds."
   ]
  },
  {
   "cell_type": "code",
   "execution_count": 2,
   "metadata": {
    "collapsed": false,
    "deletable": true,
    "editable": true,
    "scrolled": true
   },
   "outputs": [
    {
     "name": "stderr",
     "output_type": "stream",
     "text": [
      "//anaconda/lib/python3.5/site-packages/pandas/io/parsers.py:1961: FutureWarning: split() requires a non-empty pattern match.\n",
      "  yield pat.split(line.strip())\n",
      "//anaconda/lib/python3.5/site-packages/pandas/io/parsers.py:1963: FutureWarning: split() requires a non-empty pattern match.\n",
      "  yield pat.split(line.strip())\n",
      "//anaconda/lib/python3.5/json/encoder.py:198: DeprecationWarning: Interpreting naive datetime as local 2017-02-28 14:23:31.234968. Please add timezone info to timestamps.\n",
      "  chunks = self.iterencode(o, _one_shot=True)\n"
     ]
    }
   ],
   "source": [
    "water = mb.load('../molecules/tip3p.mol2')\n",
    "li = mb.load('../molecules/li.mol2')\n",
    "cl = mb.load('../molecules/cl.mol2')"
   ]
  },
  {
   "cell_type": "markdown",
   "metadata": {},
   "source": [
    "Now we add each compound to a larger mbuild compound, which is essentially the simulation box."
   ]
  },
  {
   "cell_type": "code",
   "execution_count": 3,
   "metadata": {
    "collapsed": false,
    "deletable": true,
    "editable": true
   },
   "outputs": [
    {
     "name": "stderr",
     "output_type": "stream",
     "text": [
      "//anaconda/lib/python3.5/json/encoder.py:198: DeprecationWarning: Interpreting naive datetime as local 2017-02-28 14:23:32.467136. Please add timezone info to timestamps.\n",
      "  chunks = self.iterencode(o, _one_shot=True)\n"
     ]
    }
   ],
   "source": [
    "box_with_ions = mb.fill_box(li, n_compounds = 40, box = [4, 4, 4])\n",
    "box_with_ions = mb.solvate(solute = box_with_ions, solvent = cl, n_solvent = 40, box =[4, 4, 4])\n",
    "salt_box = mb.solvate(solute = box_with_ions, solvent = water, n_solvent = 2200, box = [4, 4, 4])"
   ]
  },
  {
   "cell_type": "markdown",
   "metadata": {},
   "source": [
    "Finally, we write the topology (which includes all necessary force field parameters) and the coordinate file."
   ]
  },
  {
   "cell_type": "code",
   "execution_count": 4,
   "metadata": {
    "collapsed": false,
    "deletable": true,
    "editable": true,
    "scrolled": true
   },
   "outputs": [
    {
     "name": "stderr",
     "output_type": "stream",
     "text": [
      "//anaconda/lib/python3.5/json/encoder.py:198: DeprecationWarning: Interpreting naive datetime as local 2017-02-28 14:23:38.381785. Please add timezone info to timestamps.\n",
      "  chunks = self.iterencode(o, _one_shot=True)\n"
     ]
    }
   ],
   "source": [
    "salt_box.save('li-cl.top', forcefield_files = '../forcefields/oplsaa.xml',  combine = 'all', overwrite = True)\n",
    "salt_box.save('li-cl.gro', overwrite = True)"
   ]
  }
 ],
 "metadata": {
  "kernelspec": {
   "display_name": "Python 3",
   "language": "python",
   "name": "python3"
  },
  "language_info": {
   "codemirror_mode": {
    "name": "ipython",
    "version": 3
   },
   "file_extension": ".py",
   "mimetype": "text/x-python",
   "name": "python",
   "nbconvert_exporter": "python",
   "pygments_lexer": "ipython3",
   "version": "3.5.3"
  }
 },
 "nbformat": 4,
 "nbformat_minor": 2
}
